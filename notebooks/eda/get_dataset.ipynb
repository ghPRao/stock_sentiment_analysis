{
 "cells": [
  {
   "cell_type": "code",
   "execution_count": 2,
   "metadata": {},
   "outputs": [],
   "source": [
    "import numpy as np\n",
    "import sys\n",
    "import csv\n",
    "from urllib.request import urlopen\n",
    "\n",
    "import warnings\n",
    "warnings.filterwarnings(\"ignore\")"
   ]
  },
  {
   "cell_type": "code",
   "execution_count": 13,
   "metadata": {},
   "outputs": [],
   "source": [
    "def download_tickers(top_companies):\n",
    "    '''\n",
    "        Pick the top top_number_of_companies in percentage\n",
    "        Create a comma seperated ticker data in a file named 'tickers.csv' under data directory\n",
    "    '''\n",
    "    assert isinstance(top_companies, int)\n",
    "\n",
    "        \n",
    "    with open('../../data/tickers.csv', 'w') as csvfile:     \n",
    "        writer = csv.writer(csvfile, delimiter=',')    \n",
    "        \n",
    "    cap_stat, output = np.array([]), []\n",
    "    \n",
    "    for exchange in [\"NASDAQ\", \"NYSE\", \"AMEX\"]:\n",
    "        url = \"http://www.nasdaq.com/screening/companies-by-industry.aspx?exchange=\"\n",
    "        repeat_times = 10 # try again if there is http error\n",
    "        for _ in range(repeat_times):\n",
    "            try:\n",
    "                print(\"Downloading tickers from {}...\".format(exchange))\n",
    "                response = urlopen(url + exchange + '&render=download')\n",
    "                content = response.read().decode('utf-8').split('\\n')\n",
    "                \n",
    "                for num, line in enumerate(content):\n",
    "                    line = line.strip().strip('\"').split('\",\"')\n",
    "                    if num == 0 or len(line) != 9:\n",
    "                        continue # filter unmatched format\n",
    "                    # ticker, name, last_sale, market_cap, IPO_year, sector, industry\n",
    "                    ticker, name, _, market_cap, _, _, _ = line[0:4] + line[5:8]\n",
    "                    cap_stat = np.append(cap_stat, float(market_cap))\n",
    "                    output.append([ticker, name.replace(',', '').replace('.', ''),\n",
    "                                   exchange, market_cap])\n",
    "                break\n",
    "            except:\n",
    "                continue\n",
    "    for data in output:\n",
    "        market_cap = float(data[3])\n",
    "        if market_cap < np.percentile(cap_stat, 100 - top_companies):\n",
    "            continue\n",
    "        writer.writerow(data)"
   ]
  },
  {
   "cell_type": "code",
   "execution_count": null,
   "metadata": {},
   "outputs": [
    {
     "name": "stdout",
     "output_type": "stream",
     "text": [
      "Downloading tickers from NASDAQ...\n"
     ]
    }
   ],
   "source": [
    "download_tickers(20)"
   ]
  },
  {
   "cell_type": "code",
   "execution_count": null,
   "metadata": {},
   "outputs": [],
   "source": []
  }
 ],
 "metadata": {
  "kernelspec": {
   "display_name": "Python 3",
   "language": "python",
   "name": "python3"
  },
  "language_info": {
   "codemirror_mode": {
    "name": "ipython",
    "version": 3
   },
   "file_extension": ".py",
   "mimetype": "text/x-python",
   "name": "python",
   "nbconvert_exporter": "python",
   "pygments_lexer": "ipython3",
   "version": "3.8.5"
  }
 },
 "nbformat": 4,
 "nbformat_minor": 4
}
